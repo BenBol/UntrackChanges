{
 "cells": [
  {
   "cell_type": "markdown",
   "metadata": {},
   "source": [
    "# Test tokens"
   ]
  },
  {
   "cell_type": "code",
   "execution_count": 9,
   "metadata": {},
   "outputs": [],
   "source": [
    "import re"
   ]
  },
  {
   "cell_type": "code",
   "execution_count": 2,
   "metadata": {},
   "outputs": [
    {
     "name": "stdout",
     "output_type": "stream",
     "text": [
      "short_test.tex test.tex\r\n"
     ]
    }
   ],
   "source": [
    "!ls \\test"
   ]
  },
  {
   "cell_type": "code",
   "execution_count": 3,
   "metadata": {},
   "outputs": [],
   "source": [
    "filename = './test/short_test.tex'"
   ]
  },
  {
   "cell_type": "code",
   "execution_count": 7,
   "metadata": {},
   "outputs": [],
   "source": [
    "with open(filename) as f:\n",
    "    raw_text = f.read()"
   ]
  },
  {
   "cell_type": "code",
   "execution_count": 8,
   "metadata": {},
   "outputs": [
    {
     "data": {
      "text/plain": [
       "'Some text here. Another sentence.\\nAnother line.\\n\\\\remove{This will be deleted.}\\nThis will not. \\n\\\\add{This will be added.} But be careful with equations\\n\\\\begin{equation}\\n    \\\\text{Ra} = \\\\frac{\\\\alpha g(r_\\\\text{cmb})\\\\Delta T L}{\\\\nu \\\\Omega},\\n\\\\end{equation}\\n\\nwhich can be tricky. \\\\add{Also take care with citations \\\\cite{einstein1905} and references \\\\eqref{eq:modes}.}\\n\\\\change{Finally, change commands need to be treated correctly.}{As a last point, correct changes should be made.}\\n'"
      ]
     },
     "execution_count": 8,
     "metadata": {},
     "output_type": "execute_result"
    }
   ],
   "source": [
    "raw_text"
   ]
  },
  {
   "cell_type": "code",
   "execution_count": 25,
   "metadata": {},
   "outputs": [
    {
     "data": {
      "text/plain": [
       "[95, 274]"
      ]
     },
     "execution_count": 25,
     "metadata": {},
     "output_type": "execute_result"
    }
   ],
   "source": [
    "add_start_pos = [m.start() for m in re.finditer('\\\\\\\\add', raw_text)]\n",
    "add_start_pos"
   ]
  },
  {
   "cell_type": "code",
   "execution_count": 26,
   "metadata": {},
   "outputs": [
    {
     "data": {
      "text/plain": [
       "[48]"
      ]
     },
     "execution_count": 26,
     "metadata": {},
     "output_type": "execute_result"
    }
   ],
   "source": [
    "remove_start_pos = [m.start() for m in re.finditer('\\\\\\\\remove', raw_text)]\n",
    "remove_start_pos"
   ]
  },
  {
   "cell_type": "code",
   "execution_count": 27,
   "metadata": {},
   "outputs": [
    {
     "data": {
      "text/plain": [
       "[363]"
      ]
     },
     "execution_count": 27,
     "metadata": {},
     "output_type": "execute_result"
    }
   ],
   "source": [
    "change_start_pos = [m.start() for m in re.finditer('\\\\\\\\change', raw_text)]\n",
    "change_start_pos"
   ]
  },
  {
   "cell_type": "code",
   "execution_count": 95,
   "metadata": {},
   "outputs": [
    {
     "name": "stdout",
     "output_type": "stream",
     "text": [
      "0 95 \\add{\n",
      "This will be added.\n",
      "120\n",
      "\n",
      "\n",
      "1 274 \\add{\n",
      "Also take care with citations \\cite{einstein1905} and references \\eqref{eq:modes}.\n",
      "362\n",
      "\n",
      "\n",
      "\\add{Also take care with citations \\cite{einstein1905} and references \\eqref{eq:modes}.}\n",
      "Also take care with citations \\cite{einstein1905} and references \\eqref{eq:modes}.\n",
      "\n",
      "\n",
      "\\add{This will be added.}\n",
      "This will be added.\n",
      "\n",
      "\n",
      "0 48 \\remove{\n",
      "This will be deleted.\n",
      "78\n",
      "\n",
      "\n",
      "\\remove{This will be deleted.}\n",
      "This will be deleted.\n",
      "\n",
      "\n",
      "0 321 \\change{\n",
      "Finally, change commands need to be treated correctly.\n",
      "384\n",
      "\n",
      "\n",
      "0 384 {\n",
      "As a last point, correct changes should be made.\n",
      "434\n",
      "\n",
      "\n",
      "\\change{Finally, change commands need to be treated correctly.}\n",
      "Finally, change commands need to be treated correctly.\n",
      "{As a last point, correct changes should be made.}\n",
      "As a last point, correct changes should be made.\n",
      "\n",
      "\n"
     ]
    },
    {
     "data": {
      "text/plain": [
       "'Some text here. Another sentence.\\nAnother line.\\n\\nThis will not. \\nThis will be added. But be careful with equations\\n\\\\begin{equation}\\n    \\\\text{Ra} = \\\\frac{\\\\alpha g(r_\\\\text{cmb})\\\\Delta T L}{\\\\nu \\\\Omega},\\n\\\\end{equation}\\n\\nwhich can be tricky. Also take care with citations \\\\cite{einstein1905} and references \\\\eqref{eq:modes}.\\nAs a last point, correct changes should be made.\\n'"
      ]
     },
     "execution_count": 95,
     "metadata": {},
     "output_type": "execute_result"
    }
   ],
   "source": [
    "def add_command(text):\n",
    "    add_start_pos = [m.start() for m in re.finditer('\\\\\\\\add', text)]\n",
    "    add_end_pos = len(add_start_pos)*[None]\n",
    "    add_strings = len(add_start_pos)*[None]\n",
    "    n = len(text)\n",
    "    \n",
    "    for (i,v) in enumerate(add_start_pos):\n",
    "        add_end_pos[i], add_strings[i] = find_interior(i,v,5,text)\n",
    "    \n",
    "    new_text = '%s' % text\n",
    "    for i in reversed(range(len(add_start_pos))):\n",
    "        print(text[add_start_pos[i]:add_end_pos[i]])\n",
    "        print(add_strings[i])\n",
    "        print('\\n')\n",
    "        new_text = new_text[:add_start_pos[i]] + add_strings[i] + new_text[add_end_pos[i]:]\n",
    "    return new_text\n",
    "def remove_command(text):\n",
    "    remove_start_pos = [m.start() for m in re.finditer('\\\\\\\\remove', text)]\n",
    "    remove_end_pos = len(remove_start_pos)*[None]\n",
    "    remove_strings = len(remove_start_pos)*[None]\n",
    "    n = len(text)\n",
    "    \n",
    "    for (i,v) in enumerate(remove_start_pos):\n",
    "        remove_end_pos[i], remove_strings[i] = find_interior(i,v,8,text)\n",
    "    \n",
    "    new_text = '%s' % text\n",
    "    for i in reversed(range(len(remove_start_pos))):\n",
    "        print(text[remove_start_pos[i]:remove_end_pos[i]])\n",
    "        print(remove_strings[i])\n",
    "        print('\\n')\n",
    "        new_text = new_text[:remove_start_pos[i]] + new_text[remove_end_pos[i]:]\n",
    "    return new_text\n",
    "def change_command(text):\n",
    "    change1_start_pos = [m.start() for m in re.finditer('\\\\\\\\change', text)]\n",
    "    change1_end_pos = len(change1_start_pos)*[None]\n",
    "    change1_strings = len(change1_start_pos)*[None]\n",
    "    change2_start_pos = len(change1_start_pos)*[None]\n",
    "    change2_end_pos = len(change1_start_pos)*[None]\n",
    "    change2_strings = len(change1_start_pos)*[None]\n",
    "    n = len(text)\n",
    "    \n",
    "    for (i,v) in enumerate(change1_start_pos):\n",
    "        # First text\n",
    "        change1_end_pos[i], change1_strings[i] = find_interior(i,v,8,text)\n",
    "        # Second text\n",
    "        change2_start_pos[i] = change1_end_pos[i]\n",
    "        change2_end_pos[i], change2_strings[i] = find_interior(i,change2_start_pos[i],1,text)\n",
    "    \n",
    "    new_text = '%s' % text\n",
    "    for i in reversed(range(len(change1_start_pos))):\n",
    "        print(text[change1_start_pos[i]:change1_end_pos[i]])\n",
    "        print(change1_strings[i])\n",
    "        print(text[change2_start_pos[i]:change2_end_pos[i]])\n",
    "        print(change2_strings[i])\n",
    "        print('\\n')\n",
    "        new_text = new_text[:change1_start_pos[i]] + change2_strings[i] + new_text[change2_end_pos[i]:]\n",
    "    return new_text\n",
    "def find_interior(i,v,start,text):\n",
    "    print(i,v,text[v:v+start])\n",
    "    bracket_start_pos = v + start\n",
    "    bracket_level = 1\n",
    "    ind = bracket_start_pos\n",
    "\n",
    "    #tmp_str = ''\n",
    "    interior_string = ''\n",
    "    while bracket_level > 0:\n",
    "        if text[ind] == '{':\n",
    "            bracket_level += 1\n",
    "        elif text[ind] == '}':\n",
    "            bracket_level -= 1\n",
    "        #tmp_str += str(bracket_level)\n",
    "        interior_string += text[ind]\n",
    "        ind += 1\n",
    "    #print(tmp_str)\n",
    "    print(interior_string[:-1])\n",
    "    print(ind)\n",
    "    print('\\n')\n",
    "    \n",
    "    return ind, interior_string[:-1]\n",
    "def update_text(text):\n",
    "    text = add_command(text)\n",
    "    text = remove_command(text)\n",
    "    text = change_command(text)\n",
    "    return text\n",
    "update_text(raw_text)"
   ]
  },
  {
   "cell_type": "code",
   "execution_count": 96,
   "metadata": {},
   "outputs": [
    {
     "data": {
      "text/plain": [
       "'Some text here. Another sentence.\\nAnother line.\\n\\\\remove{This will be deleted.}\\nThis will not. \\n\\\\add{This will be added.} But be careful with equations\\n\\\\begin{equation}\\n    \\\\text{Ra} = \\\\frac{\\\\alpha g(r_\\\\text{cmb})\\\\Delta T L}{\\\\nu \\\\Omega},\\n\\\\end{equation}\\n\\nwhich can be tricky. \\\\add{Also take care with citations \\\\cite{einstein1905} and references \\\\eqref{eq:modes}.}\\n\\\\change{Finally, change commands need to be treated correctly.}{As a last point, correct changes should be made.}\\n'"
      ]
     },
     "execution_count": 96,
     "metadata": {},
     "output_type": "execute_result"
    }
   ],
   "source": [
    "raw_text"
   ]
  },
  {
   "cell_type": "code",
   "execution_count": 83,
   "metadata": {},
   "outputs": [
    {
     "name": "stdout",
     "output_type": "stream",
     "text": [
      "477\n",
      "0 48 \\remove{\n",
      "This will be deleted.\n",
      "78\n",
      "\n",
      "\n",
      "\\remove{This will be deleted.}\n",
      "This will be deleted.\n",
      "\n",
      "\n"
     ]
    },
    {
     "data": {
      "text/plain": [
       "'Some text here. Another sentence.\\nAnother line.\\n\\nThis will not. \\n\\\\add{This will be added.} But be careful with equations\\n\\\\begin{equation}\\n    \\\\text{Ra} = \\\\frac{\\\\alpha g(r_\\\\text{cmb})\\\\Delta T L}{\\\\nu \\\\Omega},\\n\\\\end{equation}\\n\\nwhich can be tricky. \\\\add{Also take care with citations \\\\cite{einstein1905} and references \\\\eqref{eq:modes}.}\\n\\\\change{Finally, change commands need to be treated correctly.}{As a last point, correct changes should be made.}\\n'"
      ]
     },
     "execution_count": 83,
     "metadata": {},
     "output_type": "execute_result"
    }
   ],
   "source": [
    "remove_command(raw_text)"
   ]
  },
  {
   "cell_type": "code",
   "execution_count": 80,
   "metadata": {},
   "outputs": [
    {
     "data": {
      "text/plain": [
       "'Some text here. Another sentence.\\nAnother line.\\n\\\\remove{This will be deleted.}\\nThis will not. \\n\\\\add{This will be added.} But be careful with equations\\n\\\\begin{equation}\\n    \\\\text{Ra} = \\\\frac{\\\\alpha g(r_\\\\text{cmb})\\\\Delta T L}{\\\\nu \\\\Omega},\\n\\\\end{equation}\\n\\nwhich can be tricky. \\\\add{Also take care with citations \\\\cite{einstein1905} and references \\\\eqref{eq:modes}.}\\n\\\\change{Finally, change commands need to be treated correctly.}{As a last point, correct changes should be made.}\\n'"
      ]
     },
     "execution_count": 80,
     "metadata": {},
     "output_type": "execute_result"
    }
   ],
   "source": [
    "raw_text"
   ]
  },
  {
   "cell_type": "code",
   "execution_count": 97,
   "metadata": {},
   "outputs": [
    {
     "data": {
      "text/plain": [
       "'Some text here. Another sentence.\\nAnother line.\\n\\nThis will not. \\nThis will be added. But be careful with equations\\n\\\\begin{equation}\\n    \\\\text{Ra} = \\\\frac{\\\\alpha g(r_\\\\text{cmb})\\\\Delta T L}{\\\\nu \\\\Omega},\\n\\\\end{equation}\\n\\nwhich can be tricky. Also take care with citations \\\\cite{einstein1905} and references \\\\eqref{eq:modes}.\\nAs a last point, correct changes should be made.\\n'"
      ]
     },
     "execution_count": 97,
     "metadata": {},
     "output_type": "execute_result"
    }
   ],
   "source": [
    "def add_command(text):\n",
    "    add_start_pos = [m.start() for m in re.finditer('\\\\\\\\add', text)]\n",
    "    add_end_pos = len(add_start_pos)*[None]\n",
    "    add_strings = len(add_start_pos)*[None]\n",
    "    n = len(text)\n",
    "    \n",
    "    for (i,v) in enumerate(add_start_pos):\n",
    "        add_end_pos[i], add_strings[i] = find_interior(i,v,5,text)\n",
    "    \n",
    "    new_text = '%s' % text\n",
    "    for i in reversed(range(len(add_start_pos))):\n",
    "        new_text = new_text[:add_start_pos[i]] + add_strings[i] + new_text[add_end_pos[i]:]\n",
    "    return new_text\n",
    "\n",
    "def remove_command(text):\n",
    "    remove_start_pos = [m.start() for m in re.finditer('\\\\\\\\remove', text)]\n",
    "    remove_end_pos = len(remove_start_pos)*[None]\n",
    "    remove_strings = len(remove_start_pos)*[None]\n",
    "    n = len(text)\n",
    "    \n",
    "    for (i,v) in enumerate(remove_start_pos):\n",
    "        remove_end_pos[i], remove_strings[i] = find_interior(i,v,8,text)\n",
    "    \n",
    "    new_text = '%s' % text\n",
    "    for i in reversed(range(len(remove_start_pos))):\n",
    "        new_text = new_text[:remove_start_pos[i]] + new_text[remove_end_pos[i]:]\n",
    "    return new_text\n",
    "\n",
    "def change_command(text):\n",
    "    change1_start_pos = [m.start() for m in re.finditer('\\\\\\\\change', text)]\n",
    "    change1_end_pos = len(change1_start_pos)*[None]\n",
    "    change1_strings = len(change1_start_pos)*[None]\n",
    "    change2_start_pos = len(change1_start_pos)*[None]\n",
    "    change2_end_pos = len(change1_start_pos)*[None]\n",
    "    change2_strings = len(change1_start_pos)*[None]\n",
    "    n = len(text)\n",
    "    \n",
    "    for (i,v) in enumerate(change1_start_pos):\n",
    "        # First text\n",
    "        change1_end_pos[i], change1_strings[i] = find_interior(i,v,8,text)\n",
    "        # Second text\n",
    "        change2_start_pos[i] = change1_end_pos[i]\n",
    "        change2_end_pos[i], change2_strings[i] = find_interior(i,change2_start_pos[i],1,text)\n",
    "    \n",
    "    new_text = '%s' % text\n",
    "    for i in reversed(range(len(change1_start_pos))):\n",
    "        new_text = new_text[:change1_start_pos[i]] + change2_strings[i] + new_text[change2_end_pos[i]:]\n",
    "    return new_text\n",
    "\n",
    "def find_interior(i,v,start,text):\n",
    "    bracket_start_pos = v + start\n",
    "    bracket_level = 1\n",
    "    ind = bracket_start_pos\n",
    "\n",
    "    interior_string = ''\n",
    "    while bracket_level > 0:\n",
    "        if text[ind] == '{':\n",
    "            bracket_level += 1\n",
    "        elif text[ind] == '}':\n",
    "            bracket_level -= 1\n",
    "        interior_string += text[ind]\n",
    "        ind += 1\n",
    "    \n",
    "    return ind, interior_string[:-1]\n",
    "def update_text(text):\n",
    "    text = add_command(text)\n",
    "    text = remove_command(text)\n",
    "    text = change_command(text)\n",
    "    return text\n",
    "update_text(raw_text)"
   ]
  },
  {
   "cell_type": "code",
   "execution_count": 98,
   "metadata": {},
   "outputs": [
    {
     "data": {
      "text/plain": [
       "'Some text here. Another sentence.\\nAnother line.\\n\\\\remove{This will be deleted.}\\nThis will not. \\n\\\\add{This will be added.} But be careful with equations\\n\\\\begin{equation}\\n    \\\\text{Ra} = \\\\frac{\\\\alpha g(r_\\\\text{cmb})\\\\Delta T L}{\\\\nu \\\\Omega},\\n\\\\end{equation}\\n\\nwhich can be tricky. \\\\add{Also take care with citations \\\\cite{einstein1905} and references \\\\eqref{eq:modes}.}\\n\\\\change{Finally, change commands need to be treated correctly.}{As a last point, correct changes should be made.}\\n'"
      ]
     },
     "execution_count": 98,
     "metadata": {},
     "output_type": "execute_result"
    }
   ],
   "source": [
    "raw_text"
   ]
  },
  {
   "cell_type": "code",
   "execution_count": null,
   "metadata": {},
   "outputs": [],
   "source": []
  }
 ],
 "metadata": {
  "kernelspec": {
   "display_name": "Python 3",
   "language": "python",
   "name": "python3"
  },
  "language_info": {
   "codemirror_mode": {
    "name": "ipython",
    "version": 3
   },
   "file_extension": ".py",
   "mimetype": "text/x-python",
   "name": "python",
   "nbconvert_exporter": "python",
   "pygments_lexer": "ipython3",
   "version": "3.6.5"
  }
 },
 "nbformat": 4,
 "nbformat_minor": 2
}
